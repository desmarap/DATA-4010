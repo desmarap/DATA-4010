{
 "cells": [
  {
   "cell_type": "code",
   "execution_count": 1,
   "id": "176a3bff",
   "metadata": {},
   "outputs": [
    {
     "name": "stdout",
     "output_type": "stream",
     "text": [
      "Requirement already satisfied: laspy in c:\\users\\garoa\\anaconda3\\envs\\tf2\\lib\\site-packages (2.5.4)\n",
      "Requirement already satisfied: numpy in c:\\users\\garoa\\anaconda3\\envs\\tf2\\lib\\site-packages (from laspy) (1.25.2)\n"
     ]
    }
   ],
   "source": [
    "!pip install laspy\n",
    "\n",
    "import laspy\n",
    "import numpy as np\n",
    "import pandas as pd\n",
    "from scipy.spatial import cKDTree"
   ]
  },
  {
   "cell_type": "code",
   "execution_count": 2,
   "id": "a17fbbe4",
   "metadata": {},
   "outputs": [
    {
     "name": "stderr",
     "output_type": "stream",
     "text": [
      "\n",
      "KeyboardInterrupt\n",
      "\n"
     ]
    }
   ],
   "source": [
    "# Load the RGB Point Cloud\n",
    "rgb_las = laspy.read(\"C:/Users/garoa/Desktop/Data 4010/F_240717_1_RGBPC.las\")\n",
    "rgb_points = np.vstack((rgb_las.x, rgb_las.y, rgb_las.z)).T  # Extract XYZ"
   ]
  },
  {
   "cell_type": "code",
   "execution_count": null,
   "id": "cb282f0b",
   "metadata": {},
   "outputs": [],
   "source": [
    "# Load the Multispectral Point Cloud\n",
    "ms_las = laspy.read(\"C:/Users/garoa/Desktop/Data 4010/F_240717_1_MSPC.las\")\n",
    "ms_points = np.vstack((ms_las.x, ms_las.y, ms_las.z)).T  # Extract XYZ\n",
    "ms_extra_bands = np.vstack((ms_las.red, ms_las.green, ms_las.blue, ms_las.nir)).T  # Extract multispectral bands"
   ]
  },
  {
   "cell_type": "code",
   "execution_count": null,
   "id": "54140b28",
   "metadata": {},
   "outputs": [],
   "source": [
    "print(list(rgb_las.point_format.dimension_names))"
   ]
  },
  {
   "cell_type": "code",
   "execution_count": null,
   "id": "49883557",
   "metadata": {},
   "outputs": [],
   "source": [
    "print(list(ms_las.point_format.dimension_names))"
   ]
  },
  {
   "cell_type": "code",
   "execution_count": null,
   "id": "f099cccd",
   "metadata": {},
   "outputs": [],
   "source": [
    "tree = cKDTree(ms_points)"
   ]
  },
  {
   "cell_type": "code",
   "execution_count": null,
   "id": "7310cbc4",
   "metadata": {},
   "outputs": [],
   "source": [
    "distances, indices = tree.query(rgb_points, k=1)"
   ]
  },
  {
   "cell_type": "code",
   "execution_count": null,
   "id": "46e2533c",
   "metadata": {},
   "outputs": [],
   "source": [
    "# Initialize attributes with NaN values for unmatched points\n",
    "nir_values = np.full_like(rgb_las.x, np.nan, dtype=np.float32)\n",
    "ms_red_values = np.full_like(rgb_las.x, 0, dtype=np.uint16)\n",
    "ms_green_values = np.full_like(rgb_las.x, 0, dtype=np.uint16)\n",
    "ms_blue_values = np.full_like(rgb_las.x, 0, dtype=np.uint16)\n"
   ]
  },
  {
   "cell_type": "code",
   "execution_count": null,
   "id": "5cc4e46e",
   "metadata": {},
   "outputs": [],
   "source": [
    "valid_matches = distances < 1\n",
    "nir_values[valid_matches] = ms_las.nir[indices[valid_matches]]\n",
    "ms_red_values[valid_matches] = ms_las.red[indices[valid_matches]]\n",
    "ms_green_values[valid_matches] = ms_las.green[indices[valid_matches]]\n",
    "ms_blue_values[valid_matches] = ms_las.blue[indices[valid_matches]]"
   ]
  },
  {
   "cell_type": "code",
   "execution_count": null,
   "id": "e48e8dfe",
   "metadata": {},
   "outputs": [],
   "source": [
    "new_header = laspy.LasHeader(point_format=3, version=\"1.4\")\n",
    "\n",
    "new_header.add_extra_dim(laspy.ExtraBytesParams(name=\"nir\", type=np.float32))\n",
    "new_header.add_extra_dim(laspy.ExtraBytesParams(name=\"ms_red\", type=np.uint16))\n",
    "new_header.add_extra_dim(laspy.ExtraBytesParams(name=\"ms_green\", type=np.uint16))\n",
    "new_header.add_extra_dim(laspy.ExtraBytesParams(name=\"ms_blue\", type=np.uint16))\n"
   ]
  },
  {
   "cell_type": "code",
   "execution_count": null,
   "id": "394ab35a",
   "metadata": {},
   "outputs": [],
   "source": [
    "merged_las = laspy.LasData(new_header)"
   ]
  },
  {
   "cell_type": "code",
   "execution_count": null,
   "id": "e54a8b7f",
   "metadata": {},
   "outputs": [],
   "source": [
    "merged_las.x = rgb_las.x\n",
    "merged_las.y = rgb_las.y\n",
    "merged_las.z = rgb_las.z\n",
    "merged_las.intensity = rgb_las.intensity\n",
    "merged_las.return_number = rgb_las.return_number\n",
    "merged_las.number_of_returns = rgb_las.number_of_returns\n",
    "merged_las.classification = rgb_las.classification\n",
    "merged_las.red = rgb_las.red  # Keep original RGB\n",
    "merged_las.green = rgb_las.green\n",
    "merged_las.blue = rgb_las.blue\n",
    "merged_las.confidence = rgb_las.confidence\n",
    "\n",
    "# Assign the extra dimensions\n",
    "merged_las[\"nir\"] = nir_values\n",
    "merged_las[\"ms_red\"] = ms_red_values\n",
    "merged_las[\"ms_green\"] = ms_green_values\n",
    "merged_las[\"ms_blue\"] = ms_blue_values"
   ]
  },
  {
   "cell_type": "code",
   "execution_count": null,
   "id": "f6dfcd9a",
   "metadata": {},
   "outputs": [],
   "source": [
    "nir=merged_las.nir"
   ]
  },
  {
   "cell_type": "code",
   "execution_count": null,
   "id": "675f7db1",
   "metadata": {},
   "outputs": [],
   "source": [
    "ms_red=merged_las.nir"
   ]
  },
  {
   "cell_type": "code",
   "execution_count": null,
   "id": "f15a78d3",
   "metadata": {},
   "outputs": [],
   "source": [
    "ndvi = np.where(\n",
    "    np.isnan(nir),  \n",
    "    -1,  # Assign NDVI = -1 for missing values\n",
    "    (nir - ms_red) / (nir + ms_red) \n",
    ")"
   ]
  },
  {
   "cell_type": "code",
   "execution_count": null,
   "id": "47851350",
   "metadata": {},
   "outputs": [],
   "source": [
    "merged_las[\"ndvi\"]=ndvi"
   ]
  },
  {
   "cell_type": "code",
   "execution_count": null,
   "id": "0cc31388",
   "metadata": {},
   "outputs": [],
   "source": []
  },
  {
   "cell_type": "code",
   "execution_count": null,
   "id": "d06b5e4a",
   "metadata": {},
   "outputs": [],
   "source": [
    "merged_las.write(\"merged_with_ndvi.las\")"
   ]
  },
  {
   "cell_type": "code",
   "execution_count": null,
   "id": "6b4e2593",
   "metadata": {},
   "outputs": [],
   "source": []
  },
  {
   "cell_type": "code",
   "execution_count": null,
   "id": "6005add9",
   "metadata": {},
   "outputs": [],
   "source": []
  },
  {
   "cell_type": "code",
   "execution_count": null,
   "id": "c21963c1",
   "metadata": {},
   "outputs": [],
   "source": []
  },
  {
   "cell_type": "code",
   "execution_count": null,
   "id": "2d4a09d9",
   "metadata": {},
   "outputs": [],
   "source": []
  },
  {
   "cell_type": "code",
   "execution_count": null,
   "id": "6a484be7",
   "metadata": {},
   "outputs": [],
   "source": []
  },
  {
   "cell_type": "code",
   "execution_count": null,
   "id": "f55a08b8",
   "metadata": {},
   "outputs": [],
   "source": [
    "\n",
    "    "
   ]
  },
  {
   "cell_type": "code",
   "execution_count": null,
   "id": "60e5efad",
   "metadata": {},
   "outputs": [],
   "source": []
  }
 ],
 "metadata": {
  "kernelspec": {
   "display_name": "tf2",
   "language": "python",
   "name": "tf2"
  },
  "language_info": {
   "codemirror_mode": {
    "name": "ipython",
    "version": 3
   },
   "file_extension": ".py",
   "mimetype": "text/x-python",
   "name": "python",
   "nbconvert_exporter": "python",
   "pygments_lexer": "ipython3",
   "version": "3.10.13"
  }
 },
 "nbformat": 4,
 "nbformat_minor": 5
}
